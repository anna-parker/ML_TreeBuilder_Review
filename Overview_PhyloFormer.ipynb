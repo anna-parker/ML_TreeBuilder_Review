{
 "cells": [
  {
   "cell_type": "markdown",
   "metadata": {},
   "source": [
    "## Overview Performance of PhyloFormer on Viral Sequence Data\n",
    "\n",
    "In this script I will test the performance of [Phyloformer (Nesterenko et al. \"Phyloformer: towards fast and accurate phylogeny estimation with self-attention networks\")](https://www.biorxiv.org/content/10.1101/2022.06.24.496975v1) on simulated influenza data. Typically influenza sequences HA and NA are around 1000 nucleotides long and have a resolution rate of approximately 0.35 which means that 65% of internal nodes are \"missing\" and polytomies exist in the tree. Generally, tree builders have issues with polytomies thus simulating data with such a feature is useful for assessing the performance of PhyloFormer. As a benchmark I will be comparing PhyloFormer with the standard [IQTree](http://www.iqtree.org/).\n",
    "\n",
    "To do this I simulate trees of 8 recombining influenza segments with 100 leaves. 25% of leaves occur at sampling time 0, which is set at the date 2000 - the rest occur at earlier times. I use the flu coalescence model introduced by Pierre Barrat-Charlaix in [TreeKnit (Barrat-Charlaix et al. \"TreeKnit: Inferring ancestral reassortment graphs of Influenza viruses\")](https://journals.plos.org/ploscompbiol/article?id=10.1371/journal.pcbi.1010394) and use his simulation package [ARGTools](https://github.com/PierreBarrat/ARGTools). I then simulate mutations on each segment tree using a mutation rate of $$\\mu = \\frac{1.25}{N*c(r)*L},$$ where $N$ is the population size (set to 10000), $L$ is the sequence length (set to 1000) and $c(r)$ is an experimentally determined value which should correspond to the probability that there are no mutations on a branch and should result in trees with a desired resolution rate $r$. The sequences of all leaf nodes are written to a fasta file and the sequences are additionally dated, time 0 is set at the year 2000 and then times are set using the mutation rate of influenza which is 4.73e-3 per site per year.\n",
    "\n",
    "I then use PhyloFormer and IQTree2 to infer trees from the fasta files and compare the [robinson-fold distance](https://en.wikipedia.org/wiki/Robinson%E2%80%93Foulds_metric) of the inferred trees to the true trees and also the unresolved trees (internal branches are removed if no mutations occur on them and thus cannot be inferred from sequence information alone). Prior to this step I need to translate the nucleotide sequences into amino acid sequences for Phyloformer as it has not been trained on nucleotide data. "
   ]
  },
  {
   "cell_type": "markdown",
   "metadata": {},
   "source": [
    "#### 1. Simulation\n",
    "\n",
    "The simulation scripts are written in julia and precompiled and then called by in bash using a python wrapper. "
   ]
  },
  {
   "cell_type": "code",
   "execution_count": 28,
   "metadata": {},
   "outputs": [],
   "source": [
    "from Bio import SeqIO\n",
    "from Bio.Seq import Seq\n",
    "from Bio.Data import CodonTable\n",
    "\n",
    "def get_aa_seq(input_file, output_file):\n",
    "    '''\n",
    "    Function to convert nucleotide sequence to amino acid sequence \n",
    "    (as some nucleotide triplets do not correspond to amino acids this is seen as missing information)\n",
    "    '''\n",
    "    aa_dict = CodonTable.standard_dna_table.forward_table\n",
    "    aa_stop_dict = CodonTable.standard_dna_table.stop_codons\n",
    "\n",
    "    i = 0\n",
    "    records = list(SeqIO.parse(input_file, \"fasta\"))\n",
    "    with open(output_file, \"w\") as output_handle:\n",
    "        while i < len(records):\n",
    "            nuc = records[i].seq\n",
    "            amino_acids = [] \n",
    "            for j in range(0, len(nuc), 3):\n",
    "                if nuc[j:j+3] in aa_dict:\n",
    "                    amino_acids.append(aa_dict[nuc[j:j+3]])\n",
    "                elif nuc[j:j+3] in aa_stop_dict:\n",
    "                    amino_acids.append('*')\n",
    "                else:\n",
    "                    amino_acids.append('-')\n",
    "            aa = Seq(\"\".join(amino_acids))\n",
    "            records[i].seq = aa\n",
    "            SeqIO.write(records[i], output_handle, \"fasta\")\n",
    "            i +=1"
   ]
  },
  {
   "cell_type": "code",
   "execution_count": 29,
   "metadata": {},
   "outputs": [],
   "source": [
    "from augur.io import run_shell_command, shquote\n",
    "\n",
    "sim = 10\n",
    "n_leaves = 50 # number of leaves\n",
    "s = 0.5 #rate of adding back leaves (0.5 = leaves are added back at 0.5*rate of coalescence) - this effects time of sampling\n",
    "res = 0.4 #desired resolution of tree \n",
    "\n",
    "def simulate(n_leaves, s, res, sim):\n",
    "    dir = \"input\"\n",
    "    for n in range(1, sim):\n",
    "        cmd = \"julia --project=TreeSimulations/. -J TreeSimulations/tree_simulations.so TreeSimulations/PhyloFormerSimulations.jl --n \"+ str(n_leaves)+ \" --o \"+ dir + str(n) + \" --s \"+ str(s)+\" --res \" + str(res)\n",
    "        run_shell_command(cmd, raise_errors = True)\n",
    "        run_shell_command(\"mkdir \" +dir+ str(n)+\"/aa\", raise_errors = True)\n",
    "        for i in range(1,9):\n",
    "            get_aa_seq(dir+str(n)+\"/\"+str(i)+\".fasta\", dir+str(n)+\"/aa/aa_\"+str(i)+\".fasta\")\n",
    "\n",
    "simulate(n_leaves, s, res, sim)\n",
    "    "
   ]
  },
  {
   "cell_type": "markdown",
   "metadata": {},
   "source": [
    "#### 2. Inference\n",
    "Now run IQtree and PhyloFormer on all trees and calculate the RF distance."
   ]
  },
  {
   "cell_type": "code",
   "execution_count": 30,
   "metadata": {},
   "outputs": [],
   "source": [
    "import os\n",
    "import numpy as np\n",
    "from ete3 import Tree\n",
    "from Bio import Phylo\n",
    "\n",
    "def infer_trees(sim, n_leaves, s, res, remove=True):\n",
    "    RF_iqtree = []\n",
    "    RF_phyloformer = []\n",
    "    RF_iqtree_unresolved = []\n",
    "    RF_phyloformer_unresolved = []\n",
    "    resolution_rate = []\n",
    "\n",
    "    dir = \"input\"\n",
    "    for n in range(1, sim):\n",
    "        #run phyloformer\n",
    "        run_shell_command(\"mkdir results\" + str(n), raise_errors = True)\n",
    "        cmd = \"python PhyloFormer_predict \" + dir + str(n) + \"/aa --o results\" + str(n) \n",
    "        run_shell_command(cmd, raise_errors = True)\n",
    "        for i in range(1,9):\n",
    "\n",
    "            #run IQtree on each alignment\n",
    "            tmp_aln_file = dir+str(n)+\"/\" + str(i) + \".fasta\"\n",
    "            log_file = \"log.txt\"\n",
    "            call = [\"iqtree -s\", shquote(tmp_aln_file), \"--date TAXNAME -ninit 10 -n 4 -czb -redo\", \">\", log_file]\n",
    "            cmd = \" \".join(call)\n",
    "            run_shell_command(cmd, raise_errors = True)\n",
    "\n",
    "            #get true resolution rate\n",
    "            true_tree=Phylo.read(dir+str(n)+\"/true_\" + str(i) + \".nwk\", \"newick\")\n",
    "            unresolved_tree=Phylo.read(dir+str(n)+\"/\" + str(i) + \".nwk\", \"newick\")\n",
    "            resolution_rate.append(len(unresolved_tree.get_nonterminals())/ n_leaves)\n",
    "\n",
    "            #get RF distance\n",
    "            true_tree=Tree(dir+str(n)+\"/true_\" + str(i) + \".nwk\", format=1)\n",
    "            unresolved_tree=Tree(dir+str(n)+\"/\" + str(i) + \".nwk\", format=1)\n",
    "            phyloformer_tree=Tree('results'+ str(n) + '/predicted_aa_'+str(i)+'.nwk')\n",
    "            leaves = phyloformer_tree.get_leaves()\n",
    "            for leaf in leaves:\n",
    "                leaf.name = leaf.name.split(\"|\")[0]\n",
    "            RF_phyloformer_unresolved.append(unresolved_tree.compare(phyloformer_tree,unrooted=True)['norm_rf'])\n",
    "            RF_phyloformer.append(true_tree.compare(phyloformer_tree,unrooted=True)['norm_rf'])\n",
    "\n",
    "            iq_tree=Tree(dir+str(n)+\"/\" + str(i) +'.fasta.treefile')\n",
    "            leaves = iq_tree.get_leaves()\n",
    "            for leaf in leaves:\n",
    "                leaf.name = leaf.name.split(\"|\")[0]\n",
    "            RF_iqtree_unresolved.append(unresolved_tree.compare(iq_tree,unrooted=True)['norm_rf'])\n",
    "            RF_iqtree.append(true_tree.compare(iq_tree,unrooted=True)['norm_rf'])\n",
    "        if remove:\n",
    "            run_shell_command(\"rm -r results\" + str(n), raise_errors = True)\n",
    "            run_shell_command(\"rm -r \" + dir + str(n), raise_errors = True)\n",
    "    return RF_iqtree, RF_phyloformer, RF_iqtree_unresolved, RF_phyloformer_unresolved, resolution_rate\n",
    "    \n",
    "RF_iqtree, RF_phyloformer, RF_iqtree_unresolved, RF_phyloformer_unresolved, resolution_rate =  infer_trees(sim, n_leaves, s, res, remove=True)"
   ]
  },
  {
   "cell_type": "code",
   "execution_count": 31,
   "metadata": {},
   "outputs": [
    {
     "name": "stdout",
     "output_type": "stream",
     "text": [
      "Mean normalized Robinson-Foulds distance between true and predicted flu trees - phyloformer: 0.975\n",
      "Mean normalized Robinson-Foulds distance between true and predicted flu trees - iqtree: 0.458\n",
      "Mean normalized Robinson-Foulds distance between unresolved and predicted flu trees - phyloformer: 0.972\n",
      "Mean normalized Robinson-Foulds distance between unresolved and predicted flu trees - iqtree: 0.186\n"
     ]
    }
   ],
   "source": [
    "\n",
    "print(f'Mean normalized Robinson-Foulds distance between true and predicted flu trees - phyloformer: {np.mean(RF_phyloformer):.3f}')\n",
    "\n",
    "print(f'Mean normalized Robinson-Foulds distance between true and predicted flu trees - iqtree: {np.mean(RF_iqtree):.3f}')\n",
    "\n",
    "print(f'Mean normalized Robinson-Foulds distance between unresolved and predicted flu trees - phyloformer: {np.mean(RF_phyloformer_unresolved):.3f}')\n",
    "\n",
    "print(f'Mean normalized Robinson-Foulds distance between unresolved and predicted flu trees - iqtree: {np.mean(RF_iqtree_unresolved):.3f}')\n",
    "\n"
   ]
  },
  {
   "cell_type": "markdown",
   "metadata": {},
   "source": [
    "Making the resolution rate higher leads to better performance of IQtree but in both cases PhyloFormer performs quite badly on poorly resolved influenza data. My guess is this is due to multiple factors, first and foremost the model not being trained on nucleotide data, it being trained only on small trees and additionally, in my understanding it has not been trained on poorly resolved or even trees with leaves of varying sampling time points."
   ]
  },
  {
   "cell_type": "code",
   "execution_count": 45,
   "metadata": {},
   "outputs": [
    {
     "data": {
      "text/plain": [
       "<matplotlib.legend.Legend at 0x7fa9f376bf10>"
      ]
     },
     "execution_count": 45,
     "metadata": {},
     "output_type": "execute_result"
    },
    {
     "data": {
      "image/png": "[encoded data removed]",
      "text/plain": [
       "<Figure size 432x288 with 1 Axes>"
      ]
     },
     "metadata": {
      "needs_background": "light"
     },
     "output_type": "display_data"
    }
   ],
   "source": [
    "import matplotlib.pyplot as plt\n",
    "\n",
    "plt.scatter(resolution_rate, RF_phyloformer_unresolved, label=\"PF dist from unres\", color=\"red\", marker=\"x\", alpha=0.5)\n",
    "plt.scatter(resolution_rate, RF_phyloformer, label=\"PF dist from res\", color=\"red\", marker=\"o\", alpha=0.5)\n",
    "plt.scatter(resolution_rate, RF_iqtree_unresolved, label=\"IQtree dist from unres\", color=\"blue\", marker=\"x\", alpha=0.5)\n",
    "plt.scatter(resolution_rate, RF_iqtree, label=\"IQtree dist from res\", color=\"blue\", marker=\"o\", alpha=0.5)\n",
    "plt.title(\"Resolution rate vs RF distance\")\n",
    "plt.xlabel(\"Resolution rate true tree\")\n",
    "plt.ylabel(\"RF distance inferred to true tree\")\n",
    "plt.legend()"
   ]
  }
 ],
 "metadata": {
  "kernelspec": {
   "display_name": "Python 3.9.11 ('phylo')",
   "language": "python",
   "name": "python3"
  },
  "language_info": {
   "codemirror_mode": {
    "name": "ipython",
    "version": 3
   },
   "file_extension": ".py",
   "mimetype": "text/x-python",
   "name": "python",
   "nbconvert_exporter": "python",
   "pygments_lexer": "ipython3",
   "version": "3.9.11"
  },
  "orig_nbformat": 4,
  "vscode": {
   "interpreter": {
    "hash": "0984607db09802f9f5101a1344ecd4f418b4b67e1532fde00cf26d6efa47590c"
   }
  }
 },
 "nbformat": 4,
 "nbformat_minor": 2
}
